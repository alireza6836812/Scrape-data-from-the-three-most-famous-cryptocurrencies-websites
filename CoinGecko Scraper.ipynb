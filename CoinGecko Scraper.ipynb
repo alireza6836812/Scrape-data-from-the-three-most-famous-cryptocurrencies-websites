{
 "cells": [
  {
   "cell_type": "markdown",
   "metadata": {},
   "source": [
    "This code is a robot to scrape data from CoinGecko website"
   ]
  },
  {
   "cell_type": "code",
   "execution_count": 1,
   "metadata": {},
   "outputs": [],
   "source": [
    "from selenium import webdriver\n",
    "import time\n",
    "from selenium.webdriver.common.by import By\n",
    "import random\n",
    "from selenium.webdriver.common.action_chains import ActionChains"
   ]
  },
  {
   "cell_type": "code",
   "execution_count": null,
   "metadata": {},
   "outputs": [],
   "source": [
    "# Choose the Chrome driver as the main driver\n",
    "driver = webdriver.Chrome()\n",
    "\n",
    "# Import the url of the website\n",
    "\n",
    "url1 = 'https://www.coingecko.com/en/all-cryptocurrencies'\n",
    "driver.get(url1)\n",
    "driver.maximize_window()\n",
    "driver.implicitly_wait(10)\n",
    "link_list = []\n",
    "x = 0\n",
    "\n",
    "# Scrolling down to load data for 5 times. you can change the number based on your needs.\n",
    "\n",
    "for i in range(0,5):    \n",
    "    driver.execute_script(f'window.scrollTo(0,{2500+i*5000})')\n",
    "    driver.find_element(By.XPATH,'/html/body/div[2]/main/div/div[4]/button').click()\n",
    "    time.sleep(1)\n",
    "\n",
    "# Find the links of each coin and make a list of them\n",
    "\n",
    "for i in range(1,100):\n",
    "    a = driver.find_element(By.XPATH,f'/html/body/div[2]/main/div/div[3]/div/table/tbody/tr[{i}]/td[2]/a').get_attribute('href')\n",
    "    link_list.append(a)\n",
    "driver.close()\n",
    "\n",
    "# Print the output\n",
    "\n",
    "print(link_list)\n",
    "print(len(link_list))"
   ]
  },
  {
   "cell_type": "code",
   "execution_count": null,
   "metadata": {},
   "outputs": [
    {
     "name": "stdout",
     "output_type": "stream",
     "text": [
      "['https://www.coingecko.com/en/coins/bitcoin/historical_data', 'https://www.coingecko.com/en/coins/ethereum/historical_data', 'https://www.coingecko.com/en/coins/tether/historical_data', 'https://www.coingecko.com/en/coins/bnb/historical_data', 'https://www.coingecko.com/en/coins/solana/historical_data', 'https://www.coingecko.com/en/coins/usdc/historical_data', 'https://www.coingecko.com/en/coins/lido-staked-ether/historical_data', 'https://www.coingecko.com/en/coins/xrp/historical_data', 'https://www.coingecko.com/en/coins/toncoin/historical_data', 'https://www.coingecko.com/en/coins/dogecoin/historical_data', 'https://www.coingecko.com/en/coins/cardano/historical_data', 'https://www.coingecko.com/en/coins/tron/historical_data', 'https://www.coingecko.com/en/coins/avalanche/historical_data', 'https://www.coingecko.com/en/coins/shiba-inu/historical_data', 'https://www.coingecko.com/en/coins/wrapped-bitcoin/historical_data', 'https://www.coingecko.com/en/coins/polkadot/historical_data', 'https://www.coingecko.com/en/coins/chainlink/historical_data', 'https://www.coingecko.com/en/coins/bitcoin-cash/historical_data', 'https://www.coingecko.com/en/coins/uniswap/historical_data', 'https://www.coingecko.com/en/coins/leo-token/historical_data', 'https://www.coingecko.com/en/coins/dai/historical_data', 'https://www.coingecko.com/en/coins/near/historical_data', 'https://www.coingecko.com/en/coins/litecoin/historical_data', 'https://www.coingecko.com/en/coins/polygon/historical_data', 'https://www.coingecko.com/en/coins/wrapped-eeth/historical_data', 'https://www.coingecko.com/en/coins/kaspa/historical_data', 'https://www.coingecko.com/en/coins/pepe/historical_data', 'https://www.coingecko.com/en/coins/ethena-usde/historical_data', 'https://www.coingecko.com/en/coins/internet-computer/historical_data', 'https://www.coingecko.com/en/coins/renzo-restaked-eth/historical_data', 'https://www.coingecko.com/en/coins/ethereum-classic/historical_data', 'https://www.coingecko.com/en/coins/artificial-superintelligence-alliance/historical_data', 'https://www.coingecko.com/en/coins/monero/historical_data', 'https://www.coingecko.com/en/coins/aptos/historical_data', 'https://www.coingecko.com/en/coins/render/historical_data', 'https://www.coingecko.com/en/coins/stellar/historical_data', 'https://www.coingecko.com/en/coins/hedera/historical_data', 'https://www.coingecko.com/en/coins/cosmos-hub/historical_data', 'https://www.coingecko.com/en/coins/arbitrum/historical_data', 'https://www.coingecko.com/en/coins/cronos/historical_data', 'https://www.coingecko.com/en/coins/mantle/historical_data', 'https://www.coingecko.com/en/coins/filecoin/historical_data', 'https://www.coingecko.com/en/coins/okb/historical_data', 'https://www.coingecko.com/en/coins/stacks/historical_data', 'https://www.coingecko.com/en/coins/maker/historical_data', 'https://www.coingecko.com/en/coins/vechain/historical_data', 'https://www.coingecko.com/en/coins/injective/historical_data', 'https://www.coingecko.com/en/coins/immutable-x/historical_data', 'https://www.coingecko.com/en/coins/first-digital-usd/historical_data', 'https://www.coingecko.com/en/coins/bittensor/historical_data', 'https://www.coingecko.com/en/coins/optimism/historical_data', 'https://www.coingecko.com/en/coins/sui/historical_data', 'https://www.coingecko.com/en/coins/the-graph/historical_data', 'https://www.coingecko.com/en/coins/bonk/historical_data', 'https://www.coingecko.com/en/coins/rocket-pool-eth/historical_data', 'https://www.coingecko.com/en/coins/dogwifhat/historical_data', 'https://www.coingecko.com/en/coins/notcoin/historical_data', 'https://www.coingecko.com/en/coins/mantle-staked-ether/historical_data', 'https://www.coingecko.com/en/coins/floki/historical_data', 'https://www.coingecko.com/en/coins/arweave/historical_data', 'https://www.coingecko.com/en/coins/bitget-token/historical_data', 'https://www.coingecko.com/en/coins/lido-dao/historical_data', 'https://www.coingecko.com/en/coins/ondo/historical_data', 'https://www.coingecko.com/en/coins/theta-network/historical_data', 'https://www.coingecko.com/en/coins/whitebit/historical_data', 'https://www.coingecko.com/en/coins/fantom/historical_data', 'https://www.coingecko.com/en/coins/celestia/historical_data', 'https://www.coingecko.com/en/coins/aave/historical_data', 'https://www.coingecko.com/en/coins/brett-2/historical_data', 'https://www.coingecko.com/en/coins/thorchain/historical_data', 'https://www.coingecko.com/en/coins/jasmycoin/historical_data', 'https://www.coingecko.com/en/coins/algorand/historical_data', 'https://www.coingecko.com/en/coins/ether-fi-staked-eth/historical_data', 'https://www.coingecko.com/en/coins/pyth-network/historical_data', 'https://www.coingecko.com/en/coins/jupiter/historical_data', 'https://www.coingecko.com/en/coins/quant/historical_data', 'https://www.coingecko.com/en/coins/core/historical_data', 'https://www.coingecko.com/en/coins/multiversx/historical_data', 'https://www.coingecko.com/en/coins/sei/historical_data', 'https://www.coingecko.com/en/coins/gatetoken/historical_data', 'https://www.coingecko.com/en/coins/kucoin-shares/historical_data', 'https://www.coingecko.com/en/coins/akash-network/historical_data', 'https://www.coingecko.com/en/coins/ethereum-name-service/historical_data', 'https://www.coingecko.com/en/coins/flare/historical_data', 'https://www.coingecko.com/en/coins/flow/historical_data', 'https://www.coingecko.com/en/coins/kelp-dao-restaked-eth/historical_data', 'https://www.coingecko.com/en/coins/gala/historical_data', 'https://www.coingecko.com/en/coins/dydx-chain/historical_data', 'https://www.coingecko.com/en/coins/zebec-protocol/historical_data', 'https://www.coingecko.com/en/coins/mantra/historical_data', 'https://www.coingecko.com/en/coins/axie-infinity/historical_data', 'https://www.coingecko.com/en/coins/eos/historical_data', 'https://www.coingecko.com/en/coins/bittorrent/historical_data', 'https://www.coingecko.com/en/coins/tokenize-xchange/historical_data', 'https://www.coingecko.com/en/coins/starknet/historical_data', 'https://www.coingecko.com/en/coins/marinade-staked-sol/historical_data', 'https://www.coingecko.com/en/coins/beam-2/historical_data', 'https://www.coingecko.com/en/coins/fasttoken/historical_data', 'https://www.coingecko.com/en/coins/bitcoin-sv/historical_data']\n"
     ]
    }
   ],
   "source": [
    "# Making the exact address of historical data of each coin\n",
    "link_list2 = []\n",
    "for i in link_list:\n",
    "    i = i+'/historical_data'\n",
    "    link_list2.append(i)\n",
    "print(link_list2)\n",
    "k = 0"
   ]
  },
  {
   "cell_type": "code",
   "execution_count": null,
   "metadata": {},
   "outputs": [],
   "source": [
    "# Scrape data by clicking on each download link\n",
    "for i in range(0,len(link_list2)):\n",
    "    print(k)\n",
    "    driver = webdriver.Chrome()\n",
    "    driver.get(link_list2[k])\n",
    "    driver.maximize_window()\n",
    "    driver.implicitly_wait(10)\n",
    "    driver.find_element(By.XPATH,'/html/body/div[2]/main/div[2]/div[1]/div/div[1]/button[6]').click()\n",
    "    time.sleep(0.5)\n",
    "    driver.find_element(By.XPATH,'/html/body/div[2]/main/div[2]/div[1]/div/div[1]/button[8]').click()\n",
    "    time.sleep(0.5)\n",
    "    driver.find_element(By.XPATH,'/html/body/div[2]/main/div[2]/div[1]/div/div[2]/div/div/div/span[2]').click()\n",
    "    time.sleep(2)\n",
    "    driver.close()\n",
    "    k += 1"
   ]
  }
 ],
 "metadata": {
  "kernelspec": {
   "display_name": "Python 3",
   "language": "python",
   "name": "python3"
  },
  "language_info": {
   "codemirror_mode": {
    "name": "ipython",
    "version": 3
   },
   "file_extension": ".py",
   "mimetype": "text/x-python",
   "name": "python",
   "nbconvert_exporter": "python",
   "pygments_lexer": "ipython3",
   "version": "3.10.14"
  }
 },
 "nbformat": 4,
 "nbformat_minor": 2
}
