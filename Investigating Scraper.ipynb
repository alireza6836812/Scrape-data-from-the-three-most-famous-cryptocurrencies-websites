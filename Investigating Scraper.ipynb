{
 "cells": [
  {
   "cell_type": "markdown",
   "metadata": {},
   "source": [
    "This is a bot to scrape data from Investigating website"
   ]
  },
  {
   "cell_type": "code",
   "execution_count": 4,
   "metadata": {},
   "outputs": [],
   "source": [
    "from selenium import webdriver\n",
    "import time\n",
    "from selenium.webdriver.common.by import By\n",
    "import random\n",
    "from selenium.webdriver.common.action_chains import ActionChains\n",
    "import requests\n",
    "from bs4 import BeautifulSoup"
   ]
  },
  {
   "cell_type": "code",
   "execution_count": null,
   "metadata": {},
   "outputs": [],
   "source": [
    "url = 'https://www.macrotrends.net/stocks/research'\n",
    "driver = webdriver.Chrome()\n",
    "\n",
    "driver.get(url)\n",
    "driver.maximize_window()\n",
    "driver.implicitly_wait(10)\n",
    "\n",
    "links_list = []\n",
    "for table in range(2,7):\n",
    "    if table == 2 or table == 3:\n",
    "        rows = 26\n",
    "    elif table == 5:\n",
    "        rows = 17\n",
    "    elif table == 4:\n",
    "        rows = 225\n",
    "    try:\n",
    "        for row in range(1,rows):\n",
    "                XPATH = f'/html/body/div[1]/div[4]/div[{table}]/table/tbody/tr[{row}]/td[2]/a'\n",
    "                if table>3:\n",
    "                    XPATH = f'/html/body/div[1]/div[4]/div[{table}]/table/tbody/tr[{row}]/td[1]/a'\n",
    "                element = driver.find_element(By.XPATH,XPATH)\n",
    "                element.click()\n",
    "                driver.back()\n",
    "                time.sleep(1)\n",
    "                driver.execute_script(\"arguments[0].scrollIntoView();\", element)\n",
    "                link = element.get_attribute('href')\n",
    "                links_list.append(link)\n",
    "    except:\n",
    "        break\n",
    "driver.close()"
   ]
  },
  {
   "cell_type": "code",
   "execution_count": null,
   "metadata": {},
   "outputs": [],
   "source": [
    "url = links_list[0]\n",
    "\n",
    "driver = webdriver.Chrome()\n",
    "driver.set_page_load_timeout(15)\n",
    "try:\n",
    "    driver.get(url)\n",
    "    driver.maximize_window()\n",
    "    driver.execute_script('window.scrollTo(0,800)')\n",
    "    download = driver.find_element(By.CLASS_NAME,'/html/body/div/div[1]/div[4]/div/button')\n",
    "    print(download)\n",
    "    download.cloick()\n",
    "    driver.close()\n",
    "except:\n",
    "    driver.maximize_window()\n",
    "    driver.execute_script('window.scrollTo(0,800)')\n",
    "    download = driver.find_element(By.CSS_SELECTOR,'body > div > div.col-xs-12 > div:nth-child(4) > div > button')\n",
    "    print(download)\n",
    "    download.click()\n",
    "    driver.close()"
   ]
  }
 ],
 "metadata": {
  "kernelspec": {
   "display_name": "Python 3",
   "language": "python",
   "name": "python3"
  },
  "language_info": {
   "codemirror_mode": {
    "name": "ipython",
    "version": 3
   },
   "file_extension": ".py",
   "mimetype": "text/x-python",
   "name": "python",
   "nbconvert_exporter": "python",
   "pygments_lexer": "ipython3",
   "version": "3.10.14"
  }
 },
 "nbformat": 4,
 "nbformat_minor": 2
}
