{
 "cells": [
  {
   "cell_type": "markdown",
   "metadata": {},
   "source": [
    "This code is a robot to scrape data from Coinmarketgap website"
   ]
  },
  {
   "cell_type": "code",
   "execution_count": 1,
   "metadata": {},
   "outputs": [],
   "source": [
    "from selenium import webdriver\n",
    "import time\n",
    "from selenium.webdriver.common.by import By\n",
    "import random\n",
    "from selenium.webdriver.common.action_chains import ActionChains"
   ]
  },
  {
   "cell_type": "code",
   "execution_count": 2,
   "metadata": {},
   "outputs": [],
   "source": [
    "# This function is for getting data from each element of the website based on their numbers\n",
    "\n",
    "def get_data(number):\n",
    "    driver.find_element(By.XPATH,f'/html/body/div[1]/div[2]/div[1]/div[2]/div/div[1]/div[4]/table/tbody/tr[{number}]/td[3]/div/a/div/div/div/p').click()\n",
    "    driver.implicitly_wait(10)\n",
    "    time.sleep(3)\n",
    "\n",
    "    driver.find_element(By.XPATH,'/html/body/div[1]/div[2]/div/div[2]/div/div/div[2]/div[1]/div/div[2]/div/div/div[2]/div[2]/div/div/ul/li[5]/div').click()\n",
    "    time.sleep(3)\n",
    "\n",
    "    element = driver.find_element(By.XPATH,'//*[@id=\"__next\"]/div[2]/div/div[2]/div/div/div[2]/div[1]/div/div[2]/div/div/div[2]/div[2]/div/div/ul/li[7]/div/div/div/div[2]')\n",
    "    actions = ActionChains(driver)\n",
    "    actions.move_to_element(element).perform()\n",
    "    time.sleep(3)\n",
    "\n",
    "    driver.find_element(By.XPATH,'/html/body/div[6]/div/div[1]/div/div/button[3]/div').click()\n",
    "    time.sleep(3)\n",
    "\n",
    "    driver.back()\n",
    "    driver.back()"
   ]
  },
  {
   "cell_type": "code",
   "execution_count": null,
   "metadata": {},
   "outputs": [],
   "source": [
    "# Choosing Chrome webdriver as the main driver and scrolling down to load data\n",
    "driver = webdriver.Chrome()\n",
    "url1 = 'https://coinmarketcap.com/coins/'\n",
    "driver.get(url1)\n",
    "driver.set_window_size(800, 1200) \n",
    "driver.execute_script('window.scrollTo(0,100)')\n",
    "driver.execute_script('window.scrollTo(0,150)')\n",
    "driver.execute_script('window.scrollTo(0,200)')\n",
    "driver.implicitly_wait(10)\n",
    "time.sleep(10)"
   ]
  },
  {
   "cell_type": "code",
   "execution_count": null,
   "metadata": {},
   "outputs": [],
   "source": [
    "# Finding elements and scrape data by using get_data function\n",
    "driver.find_element(By.XPATH,'/html/body/div[5]/div[2]/div/div[1]/div/div[2]/div/button[1]').click()\n",
    "time.sleep(5)\n",
    "x = 0\n",
    "for row in range(1,101):\n",
    "    driver.execute_script(f'window.scrollTo({x},{x+50})')\n",
    "    x += 120\n",
    "    get_data(row)\n",
    "    print(row)\n",
    "\n",
    "\n",
    "driver.close()"
   ]
  }
 ],
 "metadata": {
  "kernelspec": {
   "display_name": "Python 3",
   "language": "python",
   "name": "python3"
  },
  "language_info": {
   "codemirror_mode": {
    "name": "ipython",
    "version": 3
   },
   "file_extension": ".py",
   "mimetype": "text/x-python",
   "name": "python",
   "nbconvert_exporter": "python",
   "pygments_lexer": "ipython3",
   "version": "3.10.14"
  }
 },
 "nbformat": 4,
 "nbformat_minor": 2
}
